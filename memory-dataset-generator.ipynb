{
  "nbformat": 4,
  "nbformat_minor": 0,
  "metadata": {
    "colab": {
      "provenance": []
    },
    "kernelspec": {
      "name": "python3",
      "display_name": "Python 3"
    },
    "language_info": {
      "name": "python"
    }
  },
  "cells": [
    {
      "cell_type": "markdown",
      "source": [
        "# Associative Memory Network Dataset Generator\n",
        "\n",
        "This Python notebook generates a series of `.tsv` files that contains training data for the numerical embedding network.\n",
        "\n",
        "- `full-dataset.tsv`: addition and multiplication tables for 0–9\n",
        "- `train-dataset-1.tsv`: addition table for 1\n",
        "- `train-dataset-2.tsv`: addition table for 2\n",
        "- `train-dataset.tsv` and `train-dataset.tsv`: addition and multiplication tables for 0–9, randomly separated into an 80/20 training/test split\n",
        "\n",
        "This notebook requires embeddings from the embedding network to be included as `embeddings.csv`."
      ],
      "metadata": {
        "id": "AX3w5MBwnRPQ"
      }
    },
    {
      "cell_type": "code",
      "source": [
        "with open(\"embeddings.csv\", 'r') as file:\n",
        "  embeddings = file.read()\n",
        "  embeddings = list(map(lambda e: e.split(\",\"), embeddings.split(\"\\n\")))\n",
        "  embeddings = list(map(lambda e: \"\\t\".join(e[1:]), embeddings))\n",
        "\n",
        "def number_to_binary_array(number, size):\n",
        "\n",
        "    if not isinstance(number, int) or number < 0:\n",
        "        raise ValueError(\"Input must be a non-negative integer.\")\n",
        "\n",
        "    # Convert number to binary string, remove '0b' prefix\n",
        "    binary_str = bin(number)[2:]\n",
        "\n",
        "    # Prepend '0's to make the string 7 bits long\n",
        "    binary_str = binary_str.zfill(size)\n",
        "\n",
        "    # Convert to list of integers\n",
        "    binary_array = list(map(str, binary_str))\n",
        "\n",
        "    string = \"\\t\".join(binary_array)\n",
        "\n",
        "    return string\n",
        "\n",
        "\n",
        "def remove_last_tab(input_string):\n",
        "    # Split the string on the last tab character\n",
        "    parts = input_string.rsplit('\\t', 1)\n",
        "\n",
        "    # Join the remaining parts together\n",
        "    if len(parts) > 1:\n",
        "        return ''.join(parts)\n",
        "    else:\n",
        "        # No tab found, return the original string\n",
        "        return input_string"
      ],
      "metadata": {
        "id": "kaM2Jwxhut4_"
      },
      "execution_count": null,
      "outputs": []
    },
    {
      "cell_type": "code",
      "source": [
        "import random\n",
        "\n",
        "def create_dataset(a_value=None, split=False, train_ratio=0.8):\n",
        "  header = \"_H:\\t$Name\\t\"\n",
        "\n",
        "  for i in range(0, 3):\n",
        "    for j in range(0, 1):\n",
        "      for k in range(0, 3):\n",
        "        for l in range(0, 10):\n",
        "          header += f\"%Input[4:{i},{j},{k},{l}]\"\n",
        "          if i == j == k == l == 0:\n",
        "            header += \"<4:3,1,3,10>\"\n",
        "          header += \"\\t\"\n",
        "\n",
        "  for i in range(0, 3):\n",
        "    for j in range(0, 10):\n",
        "      header += f\"%Output[2:{i},{j}]\"\n",
        "      if i == j == 0:\n",
        "        header += \"<2:3,10>\"\n",
        "      header += \"\\t\"\n",
        "\n",
        "  header = header.rstrip('\\t')  # Remove the last tab\n",
        "\n",
        "  rows = []\n",
        "\n",
        "  if a_value is not None:\n",
        "    # if a_value is provided, only generate addition table\n",
        "    for b in range(0, 10):\n",
        "      row = \"_D:\\t\"\n",
        "      row += f\"{a_value}+{b}\\t\"\n",
        "      # Input\n",
        "      row += embeddings[a_value] + \"\\t\" + embeddings[b] + \"\\t\" + number_to_binary_array(1, 30) + \"\\t\"\n",
        "      # Output\n",
        "      row += embeddings[a_value + b]\n",
        "      rows.append(row)\n",
        "  else:\n",
        "    # do addition and multiplication if no a_value is provided\n",
        "    for a in range(0, 10):\n",
        "      for b in range(0, 10):\n",
        "        row = \"_D:\\t\"\n",
        "        row += f\"{a}+{b}\\t\"\n",
        "        # Input\n",
        "        row += embeddings[a] + \"\\t\" + embeddings[b] + \"\\t\" + number_to_binary_array(1, 30) + \"\\t\"\n",
        "        # Output\n",
        "        row += embeddings[a + b]\n",
        "        rows.append(row)\n",
        "    for a in range(0, 10):\n",
        "      for b in range(0, 10):\n",
        "        row = \"_D:\\t\"\n",
        "        row += f\"{a}*{b}\\t\"\n",
        "        # Input\n",
        "        row += embeddings[a] + \"\\t\" + embeddings[b] + \"\\t\" + number_to_binary_array(1, 30) + \"\\t\"\n",
        "        # Output\n",
        "        row += embeddings[a * b]\n",
        "        rows.append(row)\n",
        "\n",
        "  # Optionally split the data\n",
        "  if split:\n",
        "    random.shuffle(rows)\n",
        "    split_index = int(len(rows) * train_ratio)\n",
        "    train_data = rows[:split_index]\n",
        "    test_data = rows[split_index:]\n",
        "    return header + \"\\n\" + \"\\n\".join(train_data), header + \"\\n\" + \"\\n\".join(test_data)\n",
        "\n",
        "  return header + \"\\n\" + \"\\n\".join(rows)"
      ],
      "metadata": {
        "id": "qkHlNqz2YiYb"
      },
      "execution_count": null,
      "outputs": []
    },
    {
      "cell_type": "code",
      "source": [
        "import os\n",
        "\n",
        "with open(f\"full-dataset.tsv\", \"w\") as file:\n",
        "  file.write(create_dataset())\n",
        "\n",
        "with open(f\"train-dataset-1.tsv\", \"w\") as file:\n",
        "  file.write(create_dataset(a_value=1))\n",
        "\n",
        "with open(f\"train-dataset-2.tsv\", \"w\") as file:\n",
        "  file.write(create_dataset(a_value=2))\n",
        "\n",
        "train, test = create_dataset(split=True)\n",
        "\n",
        "with open(f\"train-dataset.tsv\", \"w\") as file:\n",
        "  file.write(train)\n",
        "with open(f\"test-dataset.tsv\", \"w\") as file:\n",
        "  file.write(test)"
      ],
      "metadata": {
        "id": "3iw5OeKw1_zv"
      },
      "execution_count": null,
      "outputs": []
    }
  ]
}