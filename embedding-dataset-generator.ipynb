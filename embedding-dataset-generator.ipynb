{
  "nbformat": 4,
  "nbformat_minor": 0,
  "metadata": {
    "colab": {
      "provenance": []
    },
    "kernelspec": {
      "name": "python3",
      "display_name": "Python 3"
    },
    "language_info": {
      "name": "python"
    }
  },
  "cells": [
    {
      "cell_type": "markdown",
      "source": [
        "# Numerical Embedding Network Dataset Generator\n",
        "\n",
        "This Python notebook generates a `.tsv` file that contains training data for the numerical embedding network. It produces 82 training rows for numbers 0–81, inclusive, represented by one-hot encodings in both inputs and outputs."
      ],
      "metadata": {
        "id": "f3Y00tn0lyQ0"
      }
    },
    {
      "cell_type": "code",
      "source": [
        "def create_array(n, i):\n",
        "    # Initialize an array of length n with all elements as 0\n",
        "    array = [0] * n\n",
        "\n",
        "    # Set the element at index i to 1\n",
        "    array[i] = 1\n",
        "\n",
        "    return list(map(str, array))\n",
        "\n",
        "\n",
        "def remove_last_tab(input_string):\n",
        "    # Split the string on the last tab character\n",
        "    parts = input_string.rsplit('\\t', 1)\n",
        "\n",
        "    # Join the remaining parts together\n",
        "    if len(parts) > 1:\n",
        "        return ''.join(parts)\n",
        "    else:\n",
        "        # No tab found, return the original string\n",
        "        return input_string"
      ],
      "metadata": {
        "id": "kaM2Jwxhut4_"
      },
      "execution_count": null,
      "outputs": []
    },
    {
      "cell_type": "code",
      "source": [
        "def create_dataset():\n",
        "  header = \"_H:\\t$Name\\t\"\n",
        "\n",
        "  for i in range(0,1):\n",
        "    for j in range(0,82):\n",
        "        header += f\"%Input[2:{i},{j}]\"\n",
        "        if i==j==0:\n",
        "          header += \"<2:1,82>\"\n",
        "        header += \"\\t\"\n",
        "\n",
        "  for i in range(0,1):\n",
        "    for j in range(0,82):\n",
        "        header += f\"%Output[2:{i},{j}]\"\n",
        "        if i==j==0:\n",
        "          header += \"<2:1,82>\"\n",
        "        header += \"\\t\"\n",
        "\n",
        "  header = remove_last_tab(header)\n",
        "\n",
        "  rows = []\n",
        "\n",
        "  for b in range(0,82):\n",
        "    row = \"_D:\\t\"\n",
        "    row += f\"{b+1}\\t\"\n",
        "    # input\n",
        "    row += \"\\t\".join(create_array(82, b)) + \"\\t\"\n",
        "    # output\n",
        "    row += \"\\t\".join(create_array(82, b))\n",
        "    rows.append(row)\n",
        "\n",
        "  return header + \"\\n\" + \"\\n\".join(rows)"
      ],
      "metadata": {
        "id": "qkHlNqz2YiYb"
      },
      "execution_count": null,
      "outputs": []
    },
    {
      "cell_type": "code",
      "source": [
        "with open(f\"embedding-dataset.tsv\", \"w\") as file:\n",
        "    file.write(create_dataset())"
      ],
      "metadata": {
        "id": "3iw5OeKw1_zv"
      },
      "execution_count": null,
      "outputs": []
    }
  ]
}